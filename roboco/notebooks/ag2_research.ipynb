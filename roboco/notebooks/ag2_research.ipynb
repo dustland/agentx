{
 "cells": [
  {
   "cell_type": "markdown",
   "metadata": {},
   "source": [
    "# RoboCo AG2 Research\n",
    "\n",
    "## AutoGen-powered Agent Interactions"
   ]
  },
  {
   "cell_type": "code",
   "execution_count": null,
   "metadata": {},
   "outputs": [],
   "source": [
    "from src.agents.roles.ceo import CEORoboCoAgent\n",
    "from src.simulation.controller import AG2SimulationController\n\n",
    "# Initialize AG2 components\n",
    "sim = AG2SimulationController()\n",
    "response = await sim.run_strategic_session(\n",
    "    \"Develop warehouse automation roadmap\"\n",
    ")\n",
    "print('Strategic Session Results:', response)"
   ]
  }
 ],
 "metadata": {
  "kernelspec": {
   "display_name": "Python 3",
   "language": "python",
   "name": "python3"
  }
 }
}
